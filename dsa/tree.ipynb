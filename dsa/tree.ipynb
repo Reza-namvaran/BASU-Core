{
 "cells": [
  {
   "cell_type": "markdown",
   "id": "9469864b-3851-4a03-a4cb-067621d37c77",
   "metadata": {},
   "source": [
    "# In-Order Traversal\n",
    "\n",
    "1. Initialize an empty stack and set `current = root`.\n",
    "2. While `current` is not `None` or the stack is not empty:\n",
    "   - If `current` is not `None`:\n",
    "     1. Push `current` onto the stack.\n",
    "     2. Move to the left child (`current = current.left`).\n",
    "   - Else:\n",
    "     1. Pop the top node from the stack and visit it.\n",
    "     2. Move to the right child (`current = current.right`).\n",
    "\n",
    "summary : push root/ push left till end / pop and visit / do for right\n",
    "\n",
    "- can we go left? go left and push it\n",
    "- you cant? pop visit and go right\n",
    "\n",
    "### summary:\n",
    "- left left left ... end  pop right left if you can pop if you cant"
   ]
  },
  {
   "cell_type": "code",
   "execution_count": 1,
   "id": "64127f93-ae35-4436-a324-70daf4446be8",
   "metadata": {
    "jupyter": {
     "source_hidden": true
    }
   },
   "outputs": [],
   "source": [
    "class TreeNode:\n",
    "    def __init__(self, data):\n",
    "        self.data = data\n",
    "        self.left = None\n",
    "        self.right = None\n",
    "\n",
    "# Create a sample binary tree\n",
    "#     1\n",
    "#    / \\\n",
    "#   2   3\n",
    "#  / \\\n",
    "# 4   5\n",
    "root = TreeNode(1)\n",
    "root.left = TreeNode(2)\n",
    "root.right = TreeNode(3)\n",
    "root.left.left = TreeNode(4)\n",
    "root.left.right = TreeNode(5)"
   ]
  },
  {
   "cell_type": "code",
   "execution_count": 2,
   "id": "56d43248-52d2-44f1-bd5d-f70ecc7a71b0",
   "metadata": {},
   "outputs": [
    {
     "name": "stdout",
     "output_type": "stream",
     "text": [
      "In-Order Traversal:\n",
      "4 2 5 1 3 "
     ]
    }
   ],
   "source": [
    "#     1\n",
    "#    / \\\n",
    "#   2   3\n",
    "#  / \\\n",
    "# 4   5\n",
    "\n",
    "def inorder(root):\n",
    "    if root is not None:          \n",
    "        inorder(root.left)        \n",
    "        print(root.data, end=\" \")          \n",
    "        inorder(root.right)       \n",
    "print(\"In-Order Traversal:\")\n",
    "inorder(root)"
   ]
  },
  {
   "cell_type": "markdown",
   "id": "59c8f774-9165-489d-a4d6-3b9697b1d99d",
   "metadata": {},
   "source": [
    "# Pre-Order Traversal\n",
    "\n",
    "1. Create an empty stack and push the `root` node onto it.\n",
    "2. While the stack is `not empty`:\n",
    "   - Pop the top node from the stack and visit it.\n",
    "   - Push the `right child` of the popped node onto the stack (if it exists).\n",
    "   - Push the `left child` of the popped node onto the stack (if it exists).\n",
    "     - *(Note: The right child is pushed first so that the left child is processed first.)*\n",
    "    \n",
    "summary : push root / always do pop . right . left"
   ]
  },
  {
   "cell_type": "code",
   "execution_count": 3,
   "id": "98d7a812-a505-4522-9836-3ce24812e41b",
   "metadata": {},
   "outputs": [
    {
     "name": "stdout",
     "output_type": "stream",
     "text": [
      "Pre-Order Traversal:\n",
      "1 2 4 5 3 "
     ]
    }
   ],
   "source": [
    "#     1\n",
    "#    / \\\n",
    "#   2   3\n",
    "#  / \\\n",
    "# 4   5\n",
    "\n",
    "def preorder(root):\n",
    "    if root is not None:\n",
    "        print(root.data, end=\" \") \n",
    "        preorder(root.left)\n",
    "        preorder(root.right)\n",
    "print(\"Pre-Order Traversal:\")\n",
    "preorder(root)"
   ]
  },
  {
   "cell_type": "markdown",
   "id": "ee7e3021-cc89-4af7-868e-0566703ffb5c",
   "metadata": {},
   "source": [
    "# Post-Order Traversal\n",
    "\n",
    "1. **Initialize**:\n",
    "   - Create two empty stacks: `stack1` and `stack2`.\n",
    "   - Push the root node onto `stack1`.\n",
    "\n",
    "2. **Traverse the tree**:\n",
    "   - While `stack1` is not empty:\n",
    "     - Pop the top node from `stack1` and push it onto `stack2`.\n",
    "     - Push the left child of the popped node onto `stack1` (if it exists).\n",
    "     - Push the right child of the popped node onto `stack1` (if it exists).\n",
    "\n",
    "3. **Visit nodes**:\n",
    "   - Pop nodes from `stack2` and visit them (e.g., print their values).\n",
    "\n",
    "---\n",
    "\n",
    "### Key Points:\n",
    "- `stack1` is used to process nodes in reverse post-order (root, right, left).\n",
    "- `stack2` stores the nodes in the correct post-order sequence (left, right, root).\n",
    "- This approach ensures that nodes are visited in the correct post-order sequence.\n",
    "\n",
    "#### summary:\n",
    "- push root to st1\n",
    "- pop st1 push to st2\n",
    "- push left right to st1\n",
    "- do pop left right"
   ]
  },
  {
   "cell_type": "code",
   "execution_count": 4,
   "id": "c3af869d-f320-4cfe-9705-458fc3b491c3",
   "metadata": {},
   "outputs": [
    {
     "name": "stdout",
     "output_type": "stream",
     "text": [
      "Post-Order Traversal:\n",
      "4 5 2 3 1 "
     ]
    }
   ],
   "source": [
    "#     1\n",
    "#    / \\\n",
    "#   2   3\n",
    "#  / \\\n",
    "# 4   5\n",
    "\n",
    "def postorder(root):\n",
    "    if root is not None:\n",
    "        postorder(root.left)\n",
    "        postorder(root.right)\n",
    "        print(root.data, end=\" \")\n",
    "\n",
    "print(\"Post-Order Traversal:\")\n",
    "postorder(root)"
   ]
  },
  {
   "cell_type": "markdown",
   "id": "9e86de48-d7be-4d27-9c41-76d75d7fa6cb",
   "metadata": {},
   "source": [
    "# Constructing a Binary Tree from Two Traversals\n",
    "\n",
    "## Key Concepts\n",
    "\n",
    "- **Inorder Traversal**: Left → Root → Right\n",
    "- **Preorder Traversal**: Root → Left → Right\n",
    "- **Postorder Traversal**: Left → Right → Root\n",
    "- **Root Identification**:\n",
    "  - In **preorder**, the **first element** is the root.\n",
    "  - In **postorder**, the **last element** is the root.\n",
    "- **Inorder Traversal** divides the tree into **left** and **right subtrees**.\n"
   ]
  },
  {
   "cell_type": "markdown",
   "id": "e40b7597-de9c-45ff-85de-529beb0b7eb1",
   "metadata": {},
   "source": [
    "## Constructing Tree from Inorder + Preorder\n",
    "\n",
    "### Steps:\n",
    "1. **Root**: First element in preorder.\n",
    "2. **Find Root in Inorder**: Divides inorder into left and right subtrees.\n",
    "3. **Recursively Build**:\n",
    "   - Left subtree: Use left part of inorder and remaining preorder.\n",
    "   - Right subtree: Use right part of inorder and remaining preorder."
   ]
  },
  {
   "cell_type": "code",
   "execution_count": 5,
   "id": "83a21a16-43fd-4da7-b377-7953af1db1ae",
   "metadata": {},
   "outputs": [],
   "source": [
    "def buildTree(preorder, inorder):\n",
    "    if not preorder or not inorder:\n",
    "        return None\n",
    "    root_val = preorder.pop(0)\n",
    "    root = TreeNode(root_val)\n",
    "    mid = inorder.index(root_val)\n",
    "    root.left = buildTree(preorder, inorder[:mid])\n",
    "    root.right = buildTree(preorder, inorder[mid+1:])\n",
    "    return root"
   ]
  },
  {
   "cell_type": "markdown",
   "id": "0d540eba-f9c1-42c0-99d7-f4095c7b22c5",
   "metadata": {},
   "source": [
    "## Constructing Tree from Inorder + Postorder\n",
    "\n",
    "### Steps:\n",
    "1. **Root**: Last element in postorder.\n",
    "2. **Find Root in Inorder**: Divides inorder into left and right subtrees.\n",
    "3. **Recursively Build**:\n",
    "   - Right subtree: Use right part of inorder and remaining postorder.\n",
    "   - Left subtree: Use left part of inorder and remaining postorder."
   ]
  },
  {
   "cell_type": "code",
   "execution_count": 6,
   "id": "5e76d8a8-b1d6-4ab5-9cca-9e9ddd3cb7d8",
   "metadata": {},
   "outputs": [],
   "source": [
    "def buildTree(inorder, postorder):\n",
    "    if not inorder or not postorder:\n",
    "        return None\n",
    "    root_val = postorder.pop()\n",
    "    root = TreeNode(root_val)\n",
    "    mid = inorder.index(root_val)\n",
    "    root.right = buildTree(inorder[mid+1:], postorder)\n",
    "    root.left = buildTree(inorder[:mid], postorder)\n",
    "    return root"
   ]
  },
  {
   "cell_type": "markdown",
   "id": "b4b6294a-c9b8-4273-99ed-49df49db1bf9",
   "metadata": {},
   "source": [
    "## Example Tree Structure\n",
    "\n",
    "### Input:\n",
    "- Inorder: `[4, 2, 5, 1, 6, 3, 7]`\n",
    "- Preorder: `[1, 2, 4, 5, 3, 6, 7]`\n",
    "- Postorder: `[4, 5, 2, 6, 7, 3, 1]`\n",
    "\n",
    "### Tree Structure:\n"
   ]
  },
  {
   "cell_type": "code",
   "execution_count": 7,
   "id": "11c19c2a-7309-460b-b504-267b9b947821",
   "metadata": {},
   "outputs": [],
   "source": [
    "#     1\n",
    "#    / \\\n",
    "#   2   3\n",
    "#  / \\ / \\\n",
    "# 4  5 6  7"
   ]
  },
  {
   "cell_type": "markdown",
   "id": "a7ccc4b5-e069-4cda-b7bd-e902bad5ee17",
   "metadata": {},
   "source": [
    "## Key Points\n",
    "\n",
    "1. **Inorder** is mandatory for dividing the tree into subtrees.\n",
    "2. **Preorder/Postorder** helps identify the root.\n",
    "3. Recursion is used to build left and right subtrees.\n",
    "4. Time Complexity: **O(n)** (with efficient lookup for root index in inorder).\n",
    "5. Space Complexity: **O(n)** (due to recursion stack)."
   ]
  },
  {
   "cell_type": "markdown",
   "id": "e60e5f8d-3bbd-4df4-95a5-ffb083140739",
   "metadata": {},
   "source": [
    "## examples"
   ]
  },
  {
   "cell_type": "markdown",
   "id": "f486b434-2fbe-4dc5-9996-41550227ad7f",
   "metadata": {},
   "source": [
    "### Example 1: Inorder + Postorder\n",
    "\n",
    "**Input:**\n",
    "- Inorder: `[9, 3, 15, 20, 7]`\n",
    "- Postorder: `[9, 15, 7, 20, 3]`\n"
   ]
  },
  {
   "cell_type": "code",
   "execution_count": 8,
   "id": "25973010-301e-4a18-b7ba-bd289632ce0f",
   "metadata": {
    "jupyter": {
     "source_hidden": true
    }
   },
   "outputs": [],
   "source": [
    "# solution\n",
    "#       3\n",
    "#      / \\\n",
    "#     9  20\n",
    "#       /  \\\n",
    "#      15   7"
   ]
  },
  {
   "cell_type": "markdown",
   "id": "fe27b4ef-eb70-4ad3-a669-9d9f47ebe6fe",
   "metadata": {},
   "source": [
    "### Example 2: Inorder + Preorder\n",
    "\n",
    "**Input:**\n",
    "- Inorder: `[8, 4, 9, 2, 5, 1, 6, 3, 7]`\n",
    "- Preorder: `[1, 2, 4, 8, 9, 5, 3, 6, 7]`\n"
   ]
  },
  {
   "cell_type": "code",
   "execution_count": 9,
   "id": "f744d40a-fef2-4375-b421-208ad9640b9c",
   "metadata": {
    "jupyter": {
     "source_hidden": true
    }
   },
   "outputs": [],
   "source": [
    "# solution\n",
    "#           1\n",
    "#          / \\\n",
    "#         2   3\n",
    "#        / \\ / \\\n",
    "#       4  5 6  7\n",
    "#      / \\\n",
    "#     8   9"
   ]
  },
  {
   "cell_type": "markdown",
   "id": "76a11c93-4ea8-490d-a8e2-3fc2bf5ca6ac",
   "metadata": {},
   "source": [
    "### <mark> Example 3: Inorder + Postorder</mark>\n",
    "\n",
    "**Input:**\n",
    "- Inorder: `[4, 8, 2, 5, 1, 6, 3, 7]`\n",
    "- Postorder: `[8, 4, 5, 2, 6, 7, 3, 1]`\n"
   ]
  },
  {
   "cell_type": "code",
   "execution_count": 10,
   "id": "6ee663d9-4161-49f0-9541-f4ccbfd72206",
   "metadata": {
    "jupyter": {
     "source_hidden": true
    }
   },
   "outputs": [],
   "source": [
    "# solution\n",
    "#         1\n",
    "#        / \\\n",
    "#       2   3\n",
    "#      / \\ / \\\n",
    "#     4  5 6  7\n",
    "#      \\\n",
    "#       8"
   ]
  },
  {
   "cell_type": "markdown",
   "id": "87662282-9db0-4fd0-8c5b-5cd248e00491",
   "metadata": {},
   "source": [
    "# Converting a Generic Tree to a Binary Tree \n",
    "\n",
    "- **Generic Tree**: A tree where each node can have any number of children.\n",
    "- **Binary Tree**: A tree where each node has at most two children (left and right).\n",
    "- **Left-Child Right-Sibling (LCRS) Representation**:\n",
    "  - Left child in binary tree = First child in generic tree.\n",
    "  - Right child in binary tree = Next sibling in generic tree."
   ]
  },
  {
   "cell_type": "code",
   "execution_count": 11,
   "id": "86dd1cd2-5c53-485e-9f37-193bf7f45058",
   "metadata": {},
   "outputs": [],
   "source": [
    "# TreeNode Class for Binary Tree\n",
    "class TreeNode:\n",
    "    def __init__(self, data):\n",
    "        self.data = data\n",
    "        self.first_child = None  # Left child in binary tree\n",
    "        self.next_sibling = None  # Right child in binary tree\n",
    "\n",
    "# Example Generic Tree\n",
    "class GenericTreeNode:\n",
    "    def __init__(self, data):\n",
    "        self.data = data\n",
    "        self.children = []\n",
    "\n",
    "\n",
    "# Conversion Function: Generic Tree to Binary Tree\n",
    "def convert_to_binary_tree(generic_root):\n",
    "    if generic_root is None:\n",
    "        return None\n",
    "\n",
    "    # Create a binary tree node\n",
    "    binary_root = TreeNode(generic_root.data)\n",
    "\n",
    "    # Recursively convert the first child and next sibling\n",
    "    if generic_root.children:\n",
    "        binary_root.first_child = convert_to_binary_tree(generic_root.children[0])\n",
    "\n",
    "    if len(generic_root.children) > 1:\n",
    "        current = binary_root.first_child\n",
    "        for i in range(1, len(generic_root.children)):\n",
    "            current.next_sibling = convert_to_binary_tree(generic_root.children[i])\n",
    "            current = current.next_sibling\n",
    "\n",
    "    return binary_root"
   ]
  },
  {
   "cell_type": "markdown",
   "id": "a3e783a3-2e19-476f-95b7-35538808f7bf",
   "metadata": {},
   "source": [
    "# Binary Search Tree (BST)\n",
    "\n",
    "A Binary Search Tree (BST) is a binary tree data structure with the following properties:\n",
    "1. Each node has at most two children (left and right).\n",
    "2. For any given node:\n",
    "   - All nodes in the left subtree have values less than the node's value.\n",
    "   - All nodes in the right subtree have values greater than the node's value.\n",
    "3. There are no duplicate nodes.\n",
    "\n",
    "BSTs are widely used for efficient searching, insertion, and deletion operations (average time complexity: O(log n)).\n",
    "\n",
    "BST in-order traverse results in a sorted array.\n",
    "\n",
    "## BST Height\n",
    "log n <= h <= n-1\n",
    "\n",
    "average height = log n.\\\n",
    "In the worst case (unbalanced tree), `h = O(n)`, but for a balanced BST, `h = O(log n)`.\n"
   ]
  },
  {
   "cell_type": "code",
   "execution_count": 12,
   "id": "453cfa89-d247-4bb6-864a-20fa8e31239b",
   "metadata": {},
   "outputs": [],
   "source": [
    "def height(root):\n",
    "    if root is None:\n",
    "        return 0\n",
    "    left_height = height(root.left)   # left subtree\n",
    "    right_height = height(root.right) # right subtree\n",
    "    return 1 + max(left_height, right_height) \n"
   ]
  },
  {
   "cell_type": "markdown",
   "id": "e1112941-8b5d-4389-8823-32d83a5b3dc4",
   "metadata": {},
   "source": [
    "## search \n"
   ]
  },
  {
   "cell_type": "code",
   "execution_count": 13,
   "id": "cc94cc3a-bb51-4e5c-ac69-1ea4f7cceacb",
   "metadata": {},
   "outputs": [],
   "source": [
    "# Search Operation\n",
    "# Time complexity: O(h), where h is the height of the BST.\n",
    "\n",
    "def search(root, key):\n",
    "    if root is None or root.key == key:\n",
    "        return root\n",
    "    if key < root.key:\n",
    "        return search(root.left, key)\n",
    "    else:\n",
    "        return search(root.right, key)"
   ]
  },
  {
   "cell_type": "markdown",
   "id": "27297e81-2aee-4232-a00c-cc0433f6cde7",
   "metadata": {},
   "source": [
    "## insert"
   ]
  },
  {
   "cell_type": "code",
   "execution_count": 14,
   "id": "43e3ae94-c2f4-441b-a3af-44aedf326d75",
   "metadata": {},
   "outputs": [],
   "source": [
    "# Insert Operation\n",
    "# Time complexity: O(h), where h is the height of the BST.\n",
    "\n",
    "def insert(root, key):\n",
    "    if root is None:\n",
    "        return TreeNode(key)\n",
    "    if key < root.key:\n",
    "        root.left = insert(root.left, key)\n",
    "    else:\n",
    "        root.right = insert(root.right, key)\n",
    "    return root"
   ]
  },
  {
   "cell_type": "markdown",
   "id": "f64bdf6c-4cae-4b39-aa01-debba3bed974",
   "metadata": {},
   "source": [
    "## delete"
   ]
  },
  {
   "cell_type": "code",
   "execution_count": 15,
   "id": "d44c53a2-9a01-42d0-8f6a-be9b72507aad",
   "metadata": {},
   "outputs": [],
   "source": [
    "# Delete Operation\n",
    "# Time complexity: O(h), where h is the height of the BST.\n",
    "\n",
    "def delete(root, key):\n",
    "    if root is None:\n",
    "        return root\n",
    "\n",
    "    # Search for the node to delete\n",
    "    if key < root.key:\n",
    "        root.left = delete(root.left, key)\n",
    "    elif key > root.key:\n",
    "        root.right = delete(root.right, key)\n",
    "    else:\n",
    "        # Node with only one child or no child\n",
    "        if root.left is None:\n",
    "            return root.right\n",
    "        elif root.right is None:\n",
    "            return root.left\n",
    "\n",
    "        # Node with two children: Get the inorder successor (smallest in the right subtree)\n",
    "        temp = find_min(root.right)\n",
    "        root.key = temp.key\n",
    "        root.right = delete(root.right, temp.key)\n",
    "\n",
    "    return root\n",
    "\n",
    "def find_min(node):\n",
    "    while node.left is not None:\n",
    "        node = node.left\n",
    "    return node"
   ]
  },
  {
   "cell_type": "markdown",
   "id": "caf7106b-fd56-461b-93e4-bfce2861b3a3",
   "metadata": {},
   "source": [
    "## min node in bst\n",
    "left most node is min node\\\n",
    "time complexity: o(h)"
   ]
  },
  {
   "cell_type": "code",
   "execution_count": 16,
   "id": "d92b7f87-6f14-47fe-9b40-9d64825f7380",
   "metadata": {},
   "outputs": [],
   "source": [
    "def find_min_recursive(root):\n",
    "    if root is None:\n",
    "        return None  \n",
    "    if root.left is None:\n",
    "        return root  \n",
    "    return find_min_recursive(root.left)\n",
    "#------------------------------------------#\n",
    "def find_min_iterative(root):\n",
    "    if root is None:\n",
    "        return None \n",
    "    while root.left is not None:\n",
    "        root = root.left\n",
    "    return root"
   ]
  },
  {
   "cell_type": "markdown",
   "id": "8196a2c2-4f94-436f-9d06-42953572583a",
   "metadata": {},
   "source": [
    "## max node in bst\n",
    "right most node is max node\n",
    "time complexity : o(h)"
   ]
  },
  {
   "cell_type": "code",
   "execution_count": 17,
   "id": "ccfa9827-7e9b-40d5-b497-df00621ab10f",
   "metadata": {},
   "outputs": [],
   "source": [
    "def find_max_recursive(root):\n",
    "    if root is None:\n",
    "        return None  \n",
    "    if root.right is None:\n",
    "        return root  \n",
    "    return find_max_recursive(root.right)  \n",
    "#------------------------------------------#\n",
    "def find_max_iterative(root):\n",
    "    if root is None:\n",
    "        return None\n",
    "    while root.right is not None:\n",
    "        root = root.right  \n",
    "    return root"
   ]
  },
  {
   "cell_type": "markdown",
   "id": "f504faf5-a122-4fd4-8343-99213ebee2b5",
   "metadata": {},
   "source": [
    "## Successor Node in BST\n",
    "Next larger node in this node’s subtree\\\n",
    "the Inorder Successor of a given node is defined as the node with the smallest value greater than the value of the given node\n"
   ]
  }
 ],
 "metadata": {
  "kernelspec": {
   "display_name": "Python 3 (ipykernel)",
   "language": "python",
   "name": "python3"
  },
  "language_info": {
   "codemirror_mode": {
    "name": "ipython",
    "version": 3
   },
   "file_extension": ".py",
   "mimetype": "text/x-python",
   "name": "python",
   "nbconvert_exporter": "python",
   "pygments_lexer": "ipython3",
   "version": "3.10.12"
  }
 },
 "nbformat": 4,
 "nbformat_minor": 5
}
