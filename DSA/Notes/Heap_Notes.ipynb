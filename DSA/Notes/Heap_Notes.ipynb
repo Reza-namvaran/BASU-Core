{
 "cells": [
  {
   "cell_type": "markdown",
   "id": "ce6a954e-b083-4c0f-967e-5b852415fd66",
   "metadata": {},
   "source": [
    "# Heap Data Structure\n",
    "\n",
    "A **heap** is a specialized tree-based data structure that satisfies the **heap property**. It is commonly used to implement priority queues and for efficient sorting algorithms like heapsort. Below is a detailed overview of the heap data structure.\n",
    "```\n",
    "        2\n",
    "      /   \\\n",
    "     3     4\n",
    "    / \\   / \\\n",
    "   5   6 7   8\n",
    "```\n",
    "   \n",
    "---"
   ]
  },
  {
   "cell_type": "markdown",
   "id": "0836c9b0-d0bc-4689-aedb-1f9624e5104a",
   "metadata": {},
   "source": [
    "## 1. Key Properties of a Heap\n",
    "\n",
    "- **Heap Property**:\n",
    "  - In a **min-heap**, for every node `'` (except the root), the value of `i` is greater than or equal to its parent: `A[parent(i)] ≤ A[i]`.\n",
    "  - In a **max-heap**, for every node `i` (except the root), the value of `i` is less than or equal to its parent: `A[parent(i)] ≥ A[i]`.\n",
    "- **Shape Property**:\n",
    "  - A heap is a **complete binary tree**, meaning all levels are fully filled except possibly the last level, which is filled from left to right.\n",
    "\n",
    "---"
   ]
  },
  {
   "cell_type": "markdown",
   "id": "9fe55f59-1cdc-402a-9034-feff5402fc7a",
   "metadata": {},
   "source": [
    "## 2. Types of Heaps\n",
    "\n",
    "1. **Min-Heap**:\n",
    "   - The smallest element is at the root.\n",
    "   - Used in problems where the smallest element needs to be accessed quickly (e.g., Dijkstra's algorithm).\n",
    "2. **Max-Heap**:\n",
    "   - The largest element is at the root.\n",
    "   - Used in problems where the largest element needs to be accessed quickly (e.g., scheduling tasks by priority).\n",
    "---\n"
   ]
  },
  {
   "cell_type": "markdown",
   "id": "69ab574f-d51a-47eb-becf-3f3989f03b36",
   "metadata": {},
   "source": [
    "## 3. Representation of a Heap\n",
    "\n",
    "- Heaps are typically implemented using **arrays** for efficiency.\n",
    "- For a node at index `i`:\n",
    "  - **Parent**: `(i - 1) // 2`\n",
    "  - **Left Child**: `2 * i + 1`\n",
    "  - **Right Child**: `2 * i + 2`\n",
    "\n",
    "---\n"
   ]
  },
  {
   "cell_type": "markdown",
   "id": "762e4107-ee0e-466f-ba85-aa29a7fa4785",
   "metadata": {},
   "source": [
    "## 4. Operations on a Heap\n",
    "\n",
    "1. **Insertion**:\n",
    "   - Add the new element at the end of the heap.\n",
    "   - \"Bubble up\" the element to restore the heap property.\n",
    "   - Time complexity: **O(log n)**.\n",
    "2. **Deletion (Extract Min/Max)**:\n",
    "   - Remove the root element (min or max).\n",
    "   - Replace it with the last element in the heap.\n",
    "   - \"Bubble down\" the element to restore the heap property.\n",
    "   - Time complexity: **O(log n)**.\n",
    "3. **Peek**:\n",
    "   - Access the root element without removing it.\n",
    "   - Time complexity: **O(1)**.\n",
    "4. **Heapify**:\n",
    "   - Convert an arbitrary array into a heap.\n",
    "   - Time complexity: **O(n)**.\n",
    "\n",
    "---\n"
   ]
  },
  {
   "cell_type": "markdown",
   "id": "dd85503e-66d3-4206-9ad3-342ac3e053c1",
   "metadata": {},
   "source": [
    "## 5. Applications of Heaps\n",
    "\n",
    "- **Priority Queues**:\n",
    "  - Heaps are the underlying data structure for efficient priority queue implementations.\n",
    "- **Heapsort**:\n",
    "  - A comparison-based sorting algorithm with **O(n log n)** time complexity.\n",
    "- **Graph Algorithms**:\n",
    "  - Used in Dijkstra's algorithm and Prim's algorithm for finding shortest paths and minimum spanning trees.\n",
    "- **K-th Largest/Smallest Element**:\n",
    "  - Efficiently find the k-th largest or smallest element in an array using a min-heap or max-heap.\n",
    "\n",
    "---\n"
   ]
  },
  {
   "cell_type": "markdown",
   "id": "91c97ad6-ebde-41be-a74f-4208b66bc26e",
   "metadata": {},
   "source": [
    "## 6. Example of a Min-Heap\n",
    "\n",
    "Consider the following array representation of a min-heap:\n",
    "```\n",
    "Index: 0  1  2  3  4  5  6\n",
    "Value: 2, 3, 4, 5, 6, 7, 8\n",
    "```\n",
    "Tree representation:\n",
    "\n",
    "```\n",
    "        2\n",
    "      /   \\\n",
    "     3     4\n",
    "    / \\   / \\\n",
    "   5   6 7   8\n",
    "```\n",
    "---\n"
   ]
  },
  {
   "cell_type": "markdown",
   "id": "ef29df86-7304-46fe-9d11-20a733f43e19",
   "metadata": {},
   "source": [
    "## 7. Heap Operations\n",
    "\n",
    "### Insertion:"
   ]
  },
  {
   "cell_type": "code",
   "execution_count": 3,
   "id": "4f3e54cb-b70d-4e93-bb36-e586de6b1dd2",
   "metadata": {},
   "outputs": [],
   "source": [
    "def insert(heap, value):\n",
    "    heap.append(value)  # Add to the end\n",
    "    i = len(heap) - 1\n",
    "    while i > 0 and heap[parent(i)] > heap[i]:  # Bubble up\n",
    "        swap(heap, parent(i), i)\n",
    "        i = parent(i)"
   ]
  },
  {
   "cell_type": "markdown",
   "id": "70afcc1e-00ac-411c-b08d-2a13b05f45ad",
   "metadata": {},
   "source": [
    "### Extract Min:"
   ]
  },
  {
   "cell_type": "code",
   "execution_count": 4,
   "id": "a67c6c15-9e61-4044-9173-3a7f7a0773b2",
   "metadata": {},
   "outputs": [],
   "source": [
    "def extract_min(heap):\n",
    "    if not heap:\n",
    "        return None\n",
    "    min_val = heap[0]\n",
    "    heap[0] = heap[-1]  # Replace root with last element\n",
    "    heap.pop()  # Remove last element\n",
    "    heapify(heap, 0)  # Bubble down\n",
    "    return min_val"
   ]
  },
  {
   "cell_type": "markdown",
   "id": "dcf71cb9-867a-4656-a91e-9df1e22a83ce",
   "metadata": {},
   "source": [
    "### Heapify:"
   ]
  },
  {
   "cell_type": "code",
   "execution_count": null,
   "id": "ea603454-ef88-47e5-9b80-f827f7224660",
   "metadata": {},
   "outputs": [],
   "source": [
    "def heapify(heap, i):\n",
    "    smallest = i\n",
    "    left = 2 * i + 1\n",
    "    right = 2 * i + 2\n",
    "    if left < len(heap) and heap[left] < heap[smallest]:\n",
    "        smallest = left\n",
    "    if right < len(heap) and heap[right] < heap[smallest]:\n",
    "        smallest = right\n",
    "    if smallest != i:\n",
    "        swap(heap, i, smallest)\n",
    "        heapify(heap, smallest)"
   ]
  },
  {
   "cell_type": "markdown",
   "id": "4aaf89ed-0d32-48d6-80ff-1051567d16f3",
   "metadata": {},
   "source": [
    "---"
   ]
  },
  {
   "cell_type": "code",
   "execution_count": null,
   "id": "d96efc88-4310-430b-bcb6-249855b79493",
   "metadata": {},
   "outputs": [],
   "source": []
  }
 ],
 "metadata": {
  "kernelspec": {
   "display_name": "Python 3 (ipykernel)",
   "language": "python",
   "name": "python3"
  },
  "language_info": {
   "codemirror_mode": {
    "name": "ipython",
    "version": 3
   },
   "file_extension": ".py",
   "mimetype": "text/x-python",
   "name": "python",
   "nbconvert_exporter": "python",
   "pygments_lexer": "ipython3",
   "version": "3.13.1"
  }
 },
 "nbformat": 4,
 "nbformat_minor": 5
}
